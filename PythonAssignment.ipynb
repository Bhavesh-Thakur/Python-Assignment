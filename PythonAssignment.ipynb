{
  "nbformat": 4,
  "nbformat_minor": 0,
  "metadata": {
    "colab": {
      "provenance": []
    },
    "kernelspec": {
      "name": "python3",
      "display_name": "Python 3"
    },
    "language_info": {
      "name": "python"
    }
  },
  "cells": [
    {
      "cell_type": "markdown",
      "source": [
        "**1. Explain the key features of Python that make it a popular choice for programming**"
      ],
      "metadata": {
        "id": "8GDpvAxl3fyi"
      }
    },
    {
      "cell_type": "code",
      "execution_count": null,
      "metadata": {
        "id": "CAgh-euc2tm7"
      },
      "outputs": [],
      "source": [
        "\"\"\"\n",
        "1. Python is simple & easy to understand programming language.\n",
        "2. High-Level Language.\n",
        "3. Interpreted Language.\n",
        "4. Dynamically Typed.\n",
        "5. Vast number of libraries.\n",
        "6. Widely used in Industry.\n",
        "\n",
        "\"\"\""
      ]
    },
    {
      "cell_type": "markdown",
      "source": [
        "\n",
        " 2. Describe the role of predefined keywords in Python and provide examples of how they are used in a\n",
        "**program**\n",
        "\n"
      ],
      "metadata": {
        "id": "ApdSXo-85lsv"
      }
    },
    {
      "cell_type": "code",
      "source": [
        "\"\"\"\n",
        " 1. keywords are part of Python's syntax and cannot be used as identifiers (such as variable names, function names, or class names).\n",
        " 2. They are essential for defining the structure and behavior of the code.\n",
        " 3. keywords play a crucial role in structuring and controlling the flow of Python programs\n",
        "\n",
        " \"\"\""
      ],
      "metadata": {
        "colab": {
          "base_uri": "https://localhost:8080/",
          "height": 54
        },
        "id": "tNqfe9i46GTV",
        "outputId": "f53242ca-b8a1-442e-fc8b-bc4b6290b5a6"
      },
      "execution_count": 1,
      "outputs": [
        {
          "output_type": "execute_result",
          "data": {
            "text/plain": [
              "\" 1. keywords are part of Python's syntax and cannot be used as identifiers (such as variable names, function names, or class names).\\n 2. They are essential for defining the structure and behavior of the code.\\n 3. keywords play a crucial role in structuring and controlling the flow of Python programs\""
            ],
            "application/vnd.google.colaboratory.intrinsic+json": {
              "type": "string"
            }
          },
          "metadata": {},
          "execution_count": 1
        }
      ]
    },
    {
      "cell_type": "code",
      "source": [
        "x = 10\n",
        "if x > 5:\n",
        "    print(\"x is greater than 5\")\n",
        "elif x == 5:\n",
        "    print(\"x is equal to 5\")\n",
        "else:\n",
        "    print(\"x is less than 5\")\n"
      ],
      "metadata": {
        "colab": {
          "base_uri": "https://localhost:8080/"
        },
        "id": "3txT16cm7b4j",
        "outputId": "24ba9a77-152d-4623-d595-749c5e7167a7"
      },
      "execution_count": 2,
      "outputs": [
        {
          "output_type": "stream",
          "name": "stdout",
          "text": [
            "x is greater than 5\n"
          ]
        }
      ]
    },
    {
      "cell_type": "markdown",
      "source": [
        "*3. Compare and contrast mutable and immutable objects in Python with examples.*"
      ],
      "metadata": {
        "id": "pyzTXzoJ7R4b"
      }
    },
    {
      "cell_type": "code",
      "source": [
        "# Mutable - Mutable objects are those whose state or contents can be changed after creation.\n",
        "\n",
        "# Mutable: Mutations can change the object's identity (id()), but equality may remain the same if the values are the same.\n",
        "\n",
        "\"\"\"\n",
        "Mutable Types:\n",
        "\n",
        "1. Lists\n",
        "2. Dictionaries\n",
        "3. Sets\n",
        "\n",
        " \"\"\"\n",
        "\n",
        "my_list = [1, 2, 3]\n",
        "my_list[0] = 10\n",
        "print(my_list)\n",
        "\n"
      ],
      "metadata": {
        "colab": {
          "base_uri": "https://localhost:8080/"
        },
        "id": "R6St_E0x7P7i",
        "outputId": "8030b733-1c88-43d8-aabb-5b065b1f0ec3"
      },
      "execution_count": 3,
      "outputs": [
        {
          "output_type": "stream",
          "name": "stdout",
          "text": [
            "[10, 2, 3]\n"
          ]
        }
      ]
    },
    {
      "cell_type": "code",
      "source": [
        "\"\"\"\n",
        "Immutable :-  Immutable objects are those whose state or contents cannot be changed once they are created.\n",
        "\n",
        "Immutable: The identity of an immutable object cannot change, but new objects with the same values will have different identities.\n",
        "\n",
        " Immutable Types:\n",
        "\n",
        "1. Integers\n",
        "2. Floats\n",
        "3. Strings\n",
        "4. Tuples\n",
        "5. Frozensets\n",
        "\n",
        "\"\"\"\n",
        "# my_string = \"hello\"\n",
        "# my_string[0] = \"j\"\n",
        "# print(my_string)\n",
        "\n",
        "\n",
        "# my_string = \"helo\"\n",
        "# new_string = my_string.replace('h', 'j')\n",
        "# print(my_string)\n",
        "# print(new_string)\n",
        "\n",
        "\n",
        "\n",
        "\n",
        "\n",
        "\n"
      ],
      "metadata": {
        "colab": {
          "base_uri": "https://localhost:8080/",
          "height": 54
        },
        "id": "7kYi1Aoe9xVm",
        "outputId": "34708beb-23ad-4be9-b8cf-cacb551ffead"
      },
      "execution_count": 6,
      "outputs": [
        {
          "output_type": "execute_result",
          "data": {
            "text/plain": [
              "'\\nImmutable :-  Immutable objects are those whose state or contents cannot be changed once they are created.\\n\\nImmutable: The identity of an immutable object cannot change, but new objects with the same values will have different identities.\\n\\n Immutable Types:\\n\\n1. Integers\\n2. Floats\\n3. Strings\\n4. Tuples\\n5. Frozensets\\n\\n'"
            ],
            "application/vnd.google.colaboratory.intrinsic+json": {
              "type": "string"
            }
          },
          "metadata": {},
          "execution_count": 6
        }
      ]
    },
    {
      "cell_type": "markdown",
      "source": [
        "***4.  Discuss the different types of operators in Python and provide examples of how they are used***"
      ],
      "metadata": {
        "id": "Bd2Sq29m87gW"
      }
    },
    {
      "cell_type": "code",
      "source": [
        "# 1. Arithmetic Operators\n",
        "# These operators are used to perform basic arithmetic operations.\n",
        "\n",
        "# Addition :\n",
        "\n",
        "x = 9\n",
        "y = 2\n",
        "print(x + y)\n",
        "\n",
        "# Subtraction :\n",
        "\n",
        "print( x- y )\n",
        "\n",
        "# multiplication\n",
        "print( x * y)\n",
        "\n",
        "# Division :\n",
        "print( x / y)\n",
        "\n",
        "# Floor Division (//): Gives the quitoient\n",
        "print(x // y)\n",
        "\n",
        "# Modolus :\n",
        "print(x % y)\n",
        "\n",
        "# Exponential (**):\n",
        "print( x ** y)\n",
        "\n"
      ],
      "metadata": {
        "colab": {
          "base_uri": "https://localhost:8080/"
        },
        "id": "p0rOAWUQAwq1",
        "outputId": "5d4eeda7-0b20-4ec9-8c34-375bc7378f42"
      },
      "execution_count": 12,
      "outputs": [
        {
          "output_type": "stream",
          "name": "stdout",
          "text": [
            "11\n",
            "7\n",
            "18\n",
            "4.5\n",
            "4\n",
            "1\n",
            "81\n"
          ]
        }
      ]
    },
    {
      "cell_type": "markdown",
      "source": [
        "2. Comparision Operator"
      ],
      "metadata": {
        "id": "ViLfpbp3DdNT"
      }
    },
    {
      "cell_type": "code",
      "source": [
        "# Equal to (==):\n",
        "x = 5\n",
        "y = 6\n",
        "\n",
        "print( x == y)\n",
        "\n",
        "# NotEqual to (!=):\n",
        "\n",
        "print( x!= y)\n",
        "\n",
        "# Greater than (>):\n",
        "print( x > y)\n",
        "\n",
        "# Less than (<):\n",
        "print( x < y)\n",
        "\n",
        "# Greater than or equal to (>=):\n",
        "print( x >= y)\n",
        "\n",
        "# Less than equal to (<=) :\n",
        "print( x <= y)"
      ],
      "metadata": {
        "colab": {
          "base_uri": "https://localhost:8080/"
        },
        "id": "LZlZcrNCDaVV",
        "outputId": "2a68143c-6346-4f6f-afb6-4a7b81539e23"
      },
      "execution_count": 16,
      "outputs": [
        {
          "output_type": "stream",
          "name": "stdout",
          "text": [
            "False\n",
            "True\n",
            "False\n",
            "True\n",
            "False\n",
            "True\n"
          ]
        }
      ]
    },
    {
      "cell_type": "markdown",
      "source": [
        "3. Assignment Operator:"
      ],
      "metadata": {
        "id": "8zTIqipZEu0Y"
      }
    },
    {
      "cell_type": "code",
      "source": [
        "# Assignment (=):\n",
        "x = 7\n",
        "print(x)\n",
        "\n",
        "# Add and assign (+=):\n",
        "x = 6\n",
        "x += 5\n",
        "print(x)\n",
        "\n",
        "# Subtract and assign (-=):\n",
        "x =  9\n",
        "x -= 2\n",
        "print(x)\n",
        "\n",
        "# Multiply and assign (*=):\n",
        "\n",
        "x = 7\n",
        "x *=2\n",
        "print(x)\n",
        "\n",
        "# Divide and assign (/=):\n",
        "\n",
        "x = 14\n",
        "x /=2\n",
        "print(x)\n",
        "\n",
        "# Floor divide and assign (//=):\n",
        "\n",
        "x = 49\n",
        "x //= 7\n",
        "print(x)\n",
        "\n",
        "# Modulus and assign (%=):\n",
        "x = 14\n",
        "x %= 2\n",
        "print(x)\n",
        "\n",
        "# Exponent and assign (**=):\n",
        "\n",
        "x = 5\n",
        "x **= 2\n",
        "print(x)\n"
      ],
      "metadata": {
        "colab": {
          "base_uri": "https://localhost:8080/"
        },
        "id": "lMYTJ-ljE05Y",
        "outputId": "f56ce299-1b3f-4edb-88e0-8370d04f5c4b"
      },
      "execution_count": 29,
      "outputs": [
        {
          "output_type": "stream",
          "name": "stdout",
          "text": [
            "7\n",
            "11\n",
            "7\n",
            "14\n",
            "7.0\n",
            "7\n",
            "0\n",
            "25\n"
          ]
        }
      ]
    },
    {
      "cell_type": "markdown",
      "source": [
        "4. Logical Operators"
      ],
      "metadata": {
        "id": "NFRKBWs7Hfdo"
      }
    },
    {
      "cell_type": "code",
      "source": [
        "# Logical AND (and):\n",
        "x = True\n",
        "y = False\n",
        "print(x and y)\n",
        "\n",
        "# Logical OR (or):\n",
        "x = True\n",
        "y = False\n",
        "print(x or y)\n",
        "\n",
        "# Logical NOT (not):\n",
        "x = True\n",
        "print(not x )\n"
      ],
      "metadata": {
        "colab": {
          "base_uri": "https://localhost:8080/"
        },
        "id": "t7AJqZCmHmsW",
        "outputId": "a14427ee-9e85-47cc-b0d7-2bb929afb1bc"
      },
      "execution_count": 32,
      "outputs": [
        {
          "output_type": "stream",
          "name": "stdout",
          "text": [
            "False\n",
            "True\n",
            "False\n"
          ]
        }
      ]
    },
    {
      "cell_type": "markdown",
      "source": [
        "5. Bitwise Operators"
      ],
      "metadata": {
        "id": "8SpV_ypSIXBP"
      }
    },
    {
      "cell_type": "code",
      "source": [
        "# Bitwise AND (&):\n",
        "x = 5\n",
        "y = 3\n",
        "print(x & y)\n",
        "bin(5)\n",
        "bin(3)\n",
        "\n",
        "# Bitwise OR (|):\n",
        "print( x | y)\n",
        "\n",
        "# Bitwise XOR (^):\n",
        "\n",
        "print(x ^ y)\n",
        "\n",
        "# Bitwise left shift (<<): put that much of number at the end.\n",
        "x = 5\n",
        "print(x << 1)\n",
        "\n",
        "# Bitwise right shift (>>): Remove  that much of number from the end.\n",
        "\n",
        "x = 5\n",
        "print(x >> 1)\n",
        "\n"
      ],
      "metadata": {
        "colab": {
          "base_uri": "https://localhost:8080/"
        },
        "id": "4pZRaejAIYdd",
        "outputId": "47139012-1ffe-4a91-f774-8bd8146ebc54"
      },
      "execution_count": 37,
      "outputs": [
        {
          "output_type": "stream",
          "name": "stdout",
          "text": [
            "1\n",
            "7\n",
            "6\n",
            "10\n"
          ]
        }
      ]
    },
    {
      "cell_type": "markdown",
      "source": [
        "6. Membership Operators"
      ],
      "metadata": {
        "id": "NcVU5GXsKr2m"
      }
    },
    {
      "cell_type": "code",
      "source": [
        "# In :\n",
        "\n",
        "# x = 'a'\n",
        "y = 'apple'\n",
        "print(\"p\" in y)\n",
        "\n",
        "# Not in :\n",
        "\n",
        "X = \"Mango\"\n",
        "print( \"M\" not in x)\n",
        "\n"
      ],
      "metadata": {
        "colab": {
          "base_uri": "https://localhost:8080/"
        },
        "id": "7mHYuQCjKwgn",
        "outputId": "c07235fe-1f6a-4fae-e573-f3b73b8e95ef"
      },
      "execution_count": 43,
      "outputs": [
        {
          "output_type": "stream",
          "name": "stdout",
          "text": [
            "True\n",
            "True\n"
          ]
        }
      ]
    },
    {
      "cell_type": "markdown",
      "source": [
        "7. Identity Operators"
      ],
      "metadata": {
        "id": "stYsqLj1LfE1"
      }
    },
    {
      "cell_type": "code",
      "source": [
        "# Is :\n",
        "\n",
        "x = 7\n",
        "y = 7\n",
        "print(x is y)\n",
        "\n",
        "# IS not :\n",
        "list1 = [1,2,3]\n",
        "list2 =[1,2,3]\n",
        "print( list1 is not list2)\n"
      ],
      "metadata": {
        "colab": {
          "base_uri": "https://localhost:8080/"
        },
        "id": "tcxMk9MaLgmJ",
        "outputId": "4fb6e713-0965-47d4-c107-f14037d60c94"
      },
      "execution_count": 48,
      "outputs": [
        {
          "output_type": "stream",
          "name": "stdout",
          "text": [
            "True\n",
            "True\n"
          ]
        }
      ]
    },
    {
      "cell_type": "markdown",
      "source": [
        " 5. Explain the concept of type casting in Python with example."
      ],
      "metadata": {
        "id": "Z0haR5bKO3zM"
      }
    },
    {
      "cell_type": "code",
      "source": [
        "#  The process of converting variables from one data type to another is refer to as type casting.\n",
        "\n",
        "# Explicit : explicit type casting requires manual intervention from the programmer to convert variables from one type to another,\n",
        "x = 10.5\n",
        "x = int(x)\n",
        "print(x)\n",
        "\n",
        "# Implicit: implicit type casting occurs automatically by the programming language based on the context of the operation.\n",
        "x = 5\n",
        "y = 3.14\n",
        "result = x + y\n",
        "print(result)\n",
        "\n"
      ],
      "metadata": {
        "colab": {
          "base_uri": "https://localhost:8080/"
        },
        "id": "JAaRzCEQPGF6",
        "outputId": "3059930e-eacf-4bba-ec18-416399fa0ed0"
      },
      "execution_count": 50,
      "outputs": [
        {
          "output_type": "stream",
          "name": "stdout",
          "text": [
            "10\n",
            "8.14\n"
          ]
        }
      ]
    },
    {
      "cell_type": "markdown",
      "source": [
        " 6. How do conditional statements work in Python? Illustrate with examples"
      ],
      "metadata": {
        "id": "wpJjXXWXQ1z1"
      }
    },
    {
      "cell_type": "code",
      "source": [
        "# Conditional statements in Python are used to execute different code blocks based on certain conditions.\n",
        "# Three type of condition in python are :\n",
        "# if, elif, else\n",
        "\n",
        "# if statement:\n",
        "x = 10\n",
        "if x > 5:\n",
        "    print(\"x is greater than 5\")\n",
        "\n",
        "# if-else statement:\n",
        "x = 3\n",
        "if x > 5:\n",
        "    print(\"x is greater than 5\")\n",
        "else:\n",
        "    print(\"x is not greater than 5\")\n",
        "\n",
        "# if-elif-else statement:\n",
        "x = 7\n",
        "if x > 7:\n",
        "    print(\"x is above 7 \")\n",
        "elif x < 7:\n",
        "    print(\"x is less than 7\")\n",
        "else:\n",
        "    print(\"x is 7\")\n",
        "\n",
        "\n",
        "\n"
      ],
      "metadata": {
        "colab": {
          "base_uri": "https://localhost:8080/"
        },
        "id": "0hZ6U8JmQ42L",
        "outputId": "b6c48bac-afca-403e-ff68-178effb58b65"
      },
      "execution_count": 52,
      "outputs": [
        {
          "output_type": "stream",
          "name": "stdout",
          "text": [
            "x is greater than 5\n",
            "x is not greater than 5\n",
            "x is above 7 \n"
          ]
        }
      ]
    },
    {
      "cell_type": "markdown",
      "source": [
        "7. Describe the different types of loops in Python and their use cases with examples."
      ],
      "metadata": {
        "id": "Y8Kh34w8SS1S"
      }
    },
    {
      "cell_type": "code",
      "source": [
        "# In Python, there are mainly two types of loops: for loop and while loop.\n",
        "\n",
        "# For Loop: A for loop is used for iterating over a sequence (such as a list, tuple, string, or range) or any iterable object.\n",
        "\n",
        "fruits = [\"apple\", \"banana\", \"cherry\"]\n",
        "for fruit in fruits:\n",
        "    print(fruit)\n",
        "\"\"\"\n",
        "Use cases:\n",
        "1. When you know the number of iterations in advance or when you want to iterate over a predefined sequence.\n",
        "2. When you want to perform a certain operation on each element of a sequence.\n",
        "\n",
        "\"\"\"\n",
        "\n",
        "# WHile Loop: A while loop is used to repeatedly execute a block of code as long as a specified condition is true.\n",
        "\n",
        "i = 1\n",
        "while i <= 5:\n",
        "    print(i)\n",
        "    i += 1\n",
        "\n",
        "\"\"\"\"\n",
        "Use cases:\n",
        "\n",
        "When the number of iterations is not known in advance or when you want to iterate until a certain condition is met.\n",
        "When you want to repeatedly execute a block of code based on a condition.\n",
        "\n",
        "\"\"\"\n",
        "\n"
      ],
      "metadata": {
        "colab": {
          "base_uri": "https://localhost:8080/",
          "height": 199
        },
        "id": "5sK5NI3HSVUb",
        "outputId": "59d0c5d2-f90f-4c6e-a75a-8c0df6b16c9c"
      },
      "execution_count": 55,
      "outputs": [
        {
          "output_type": "stream",
          "name": "stdout",
          "text": [
            "apple\n",
            "banana\n",
            "cherry\n",
            "1\n",
            "2\n",
            "3\n",
            "4\n",
            "5\n"
          ]
        },
        {
          "output_type": "execute_result",
          "data": {
            "text/plain": [
              "'\"\\nUse cases:\\n\\nWhen the number of iterations is not known in advance or when you want to iterate until a certain condition is met.\\nWhen you want to repeatedly execute a block of code based on a condition.\\n\\n'"
            ],
            "application/vnd.google.colaboratory.intrinsic+json": {
              "type": "string"
            }
          },
          "metadata": {},
          "execution_count": 55
        }
      ]
    }
  ]
}